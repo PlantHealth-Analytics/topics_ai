{
  "cells": [
    {
      "cell_type": "markdown",
      "id": "d9181a77",
      "metadata": {
        "id": "d9181a77"
      },
      "source": [
        "\n",
        "# 🌱 Neural Network Classroom Game — *Plant Doctor Challenge*\n",
        "\n",
        "Welcome!\n",
        "In this notebook, you will play the role of neurons in a small neural network.\n",
        "\n",
        "The goal of this activity is to build a simple model that predicts whether a plant is likely to be healthy or sick using four features measured in the field:\n",
        "\n",
        "SNP Diversity Index – indicates the level of genetic variation in the plant.\n",
        "\n",
        "Pathogen Load – shows the amount of disease-causing organisms detected.\n",
        "\n",
        "Leaf Color Index – reflects plant vigor or stress.\n",
        "\n",
        "Root Biomass – represents the strength and health of the root system.\n",
        "\n",
        "By combining these features, the model learns to make a prediction:\n",
        "\n",
        "Healthy (1) 🌱\n",
        "\n",
        "Sick (0) 🤒\n",
        "\n",
        "This exercise will help you understand how a neural network transforms raw biological data into meaningful predictions.\n",
        "\n",
        "**Roles (for in‑class play):**\n",
        "- **Coach**: knows the true label and gives/adjusts weights & bias (acts like *backpropagation*).\n",
        "- **Input Neuron**: reads the features.\n",
        "- **Hidden Neuron**: computes the weighted sum `z` and applies the sigmoid.\n",
        "- **Output Neuron**: turns the probability into a final prediction (Healthy/Sick).\n",
        "\n",
        "You will work with **four plant features**:\n",
        "- SNP Diversity Index  \n",
        "- Pathogen Load  \n",
        "- Leaf Color Index  \n",
        "- Root Biomass\n"
      ]
    },
    {
      "cell_type": "markdown",
      "id": "5d1f13be",
      "metadata": {
        "id": "5d1f13be"
      },
      "source": [
        "\n",
        "## Plant Features (Example)\n",
        "\n",
        "| Feature              | Value |\n",
        "|----------------------|:-----:|\n",
        "| SNP Diversity Index  | 0.18  |\n",
        "| Pathogen Load        | 0.20  |\n",
        "| Leaf Color Index     | 0.40  |\n",
        "| Root Biomass         | 0.60  |\n",
        "| **True Label**       | **Sick (0)** |\n",
        "\n",
        "> The **Coach** can change the true label if you want to try other examples.\n"
      ]
    },
    {
      "cell_type": "code",
      "execution_count": 1,
      "id": "92d0df94",
      "metadata": {
        "colab": {
          "base_uri": "https://localhost:8080/",
          "height": 34
        },
        "id": "92d0df94",
        "outputId": "55f5a83d-8e67-4852-c126-e6c7694e02a1"
      },
      "outputs": [
        {
          "output_type": "execute_result",
          "data": {
            "text/plain": [
              "<IPython.core.display.HTML object>"
            ],
            "text/html": [
              "<b>Setup complete.</b> Edit values in the next cell if desired, then try weights & bias!"
            ]
          },
          "metadata": {},
          "execution_count": 1
        }
      ],
      "source": [
        "\n",
        "#@title Setup: features and helpers (run this cell first)\n",
        "\n",
        "from math import exp\n",
        "import ipywidgets as widgets\n",
        "from IPython.display import display, HTML\n",
        "import pandas as pd\n",
        "\n",
        "# Default plant features (can be edited by the Coach)\n",
        "features = {\n",
        "    \"SNP Diversity Index\": 0.18,\n",
        "    \"Pathogen Load\": 0.20,\n",
        "    \"Leaf Color Index\": 0.40,\n",
        "    \"Root Biomass\": 0.60,\n",
        "}\n",
        "true_label = widgets.Dropdown(\n",
        "    options=[(\"Sick (0)\", 0), (\"Healthy (1)\", 1)],\n",
        "    value=0,\n",
        "    description=\"True Label\",\n",
        ")\n",
        "\n",
        "def sigmoid(z):\n",
        "    return 1.0 / (1.0 + exp(-z))\n",
        "\n",
        "HTML(\"<b>Setup complete.</b> Edit values in the next cell if desired, then try weights & bias!\")\n"
      ]
    },
    {
      "cell_type": "markdown",
      "id": "e352d1c3",
      "metadata": {
        "id": "e352d1c3"
      },
      "source": [
        "\n",
        "## Step 1–3: Act like neurons\n",
        "\n",
        "- **Input Neuron**: read the features.  \n",
        "- **Hidden Neuron**: multiply by weights and add bias → compute **z**.  \n",
        "- Apply **sigmoid** to get a probability.  \n",
        "- **Output Neuron**: if prob ≥ 0.5 → **Healthy (1)**, else **Sick (0)**.\n"
      ]
    },
    {
      "cell_type": "code",
      "execution_count": null,
      "id": "b137701e",
      "metadata": {
        "id": "b137701e"
      },
      "outputs": [],
      "source": [
        "\n",
        "#@title Try weights & bias (play the game!)\n",
        "# Widgets for weights & bias (the Coach can change these)\n",
        "w1 = widgets.FloatText(value=0.0, description='w1 (SNP):')\n",
        "w2 = widgets.FloatText(value=0.0, description='w2 (Path):')\n",
        "w3 = widgets.FloatText(value=0.0, description='w3 (Leaf):')\n",
        "w4 = widgets.FloatText(value=0.0, description='w4 (Root):')\n",
        "b1 = widgets.FloatText(value=0.0, description='Bias (B1):')\n",
        "\n",
        "calc_button = widgets.Button(description='Compute forward pass', button_style='primary')\n",
        "out = widgets.Output()\n",
        "\n",
        "def sigmoid(z):\n",
        "    from math import exp\n",
        "    return 1.0 / (1.0 + exp(-z))\n",
        "\n",
        "def compute_forward(_):\n",
        "    out.clear_output()\n",
        "    vals = list(features.values())\n",
        "    ws = [w1.value, w2.value, w3.value, w4.value]\n",
        "    bias = b1.value\n",
        "    # Weighted products\n",
        "    prods = [vals[i]*ws[i] for i in range(4)]\n",
        "    z = sum(prods) + bias\n",
        "    prob = sigmoid(z)\n",
        "    pred = 1 if prob >= 0.5 else 0\n",
        "\n",
        "    # Table of Value x Weight\n",
        "    df = pd.DataFrame({\n",
        "        \"Feature\": list(features.keys()) + [\"Bias\"],\n",
        "        \"Value\": vals + [\"—\"],\n",
        "        \"Weight\": ws + [\"B1\"],\n",
        "        \"Value × Weight\": prods + [bias],\n",
        "    })\n",
        "\n",
        "    with out:\n",
        "        display(df.style.hide(axis='index'))\n",
        "        print(f\"z = {z:.6f}\")\n",
        "        print(f\"σ(z) = {prob:.6f}\")\n",
        "        print(f\"Prediction (σ(z) ≥ 0.5 → Healthy(1), else Sick(0)): {pred}\")\n",
        "        print(f\"True Label: {true_label.label}\")\n",
        "        print(f\"Correct? {'Yes ✅' if pred == true_label.value else 'No ❌'}\")\n",
        "\n",
        "display(widgets.HBox([w1, w2]))\n",
        "display(widgets.HBox([w3, w4]))\n",
        "display(b1)\n",
        "display(true_label)\n",
        "display(calc_button, out)\n",
        "calc_button.on_click(compute_forward)\n"
      ]
    },
    {
      "cell_type": "markdown",
      "id": "1f2311e3",
      "metadata": {
        "id": "1f2311e3"
      },
      "source": [
        "\n",
        "## Step 4: Coach = Backpropagation (Concept)\n",
        "\n",
        "If the prediction is wrong, the **Coach** adjusts the weights and bias and you try again.\n",
        "\n",
        "Below is an *optional* helper that nudges the weights in the right direction using a very simple rule for a **single example**. This is **not** a full implementation of backpropagation, but it shows the idea of *updating parameters to reduce error*.\n"
      ]
    },
    {
      "cell_type": "code",
      "source": [
        "#@title Coach inputs new weights and bias\n",
        "new_w1 = widgets.FloatText(description='New w1 (SNP):')\n",
        "new_w2 = widgets.FloatText(description='New w2 (Path):')\n",
        "new_w3 = widgets.FloatText(description='New w3 (Leaf):')\n",
        "new_w4 = widgets.FloatText(description='New w4 (Root):')\n",
        "new_b1 = widgets.FloatText(description='New Bias (B1):')\n",
        "\n",
        "update_button = widgets.Button(description='Update weights and bias', button_style='success')\n",
        "update_out = widgets.Output()\n",
        "\n",
        "def update_weights_bias(_):\n",
        "    global w1, w2, w3, w4, b1\n",
        "    w1.value = new_w1.value\n",
        "    w2.value = new_w2.value\n",
        "    w3.value = new_w3.value\n",
        "    w4.value = new_w4.value\n",
        "    b1.value = new_b1.value\n",
        "    with update_out:\n",
        "        print(\"Weights and bias updated! Now click 'Compute forward pass' above.\")\n",
        "\n",
        "display(widgets.VBox([new_w1, new_w2, new_w3, new_w4, new_b1, update_button, update_out]))\n",
        "update_button.on_click(update_weights_bias)"
      ],
      "metadata": {
        "id": "UlSa_V2GwNI7"
      },
      "id": "UlSa_V2GwNI7",
      "execution_count": null,
      "outputs": []
    },
    {
      "cell_type": "markdown",
      "source": [
        "First BP\n",
        "∆w1\t-0.007\n",
        "∆w2\t0.003\n",
        "∆w3\t0.0002\n",
        "∆w4\t0.00007\n",
        "∆B1\t-1.5"
      ],
      "metadata": {
        "id": "76V8SEm21qE5"
      },
      "id": "76V8SEm21qE5"
    },
    {
      "cell_type": "markdown",
      "source": [
        "Second BP ∆w1\t-0.007\n",
        "∆w2\t0.003\n",
        "∆w3\t0.0002\n",
        "∆w4\t0.00007\n",
        "∆B1\t-2"
      ],
      "metadata": {
        "id": "7heTgNMg1zYU"
      },
      "id": "7heTgNMg1zYU"
    },
    {
      "cell_type": "code",
      "metadata": {
        "id": "f8944fba"
      },
      "source": [
        "# Run this cell after updating weights and bias\n",
        "compute_forward(None)"
      ],
      "id": "f8944fba",
      "execution_count": 18,
      "outputs": []
    },
    {
      "cell_type": "markdown",
      "id": "951e25fe",
      "metadata": {
        "id": "951e25fe"
      },
      "source": [
        "\n",
        "## Reflection (Discuss / Write)\n",
        "\n",
        "1. What happened to **z** and **σ(z)** when you increased one of the weights?  \n",
        "2. Which feature had the biggest impact on the prediction? Why?  \n",
        "3. How is the **Coach** similar to backpropagation in real neural networks?\n"
      ]
    }
  ],
  "metadata": {
    "colab": {
      "provenance": []
    },
    "language_info": {
      "name": "python"
    },
    "kernelspec": {
      "name": "python3",
      "display_name": "Python 3"
    }
  },
  "nbformat": 4,
  "nbformat_minor": 5
}