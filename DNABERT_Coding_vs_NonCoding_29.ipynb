{
  "cells": [
    {
      "cell_type": "markdown",
      "metadata": {
        "id": "dZze1IitYgIC"
      },
      "source": [
        "# DNABERT (k=3–7) — Coding vs Non-Coding (Pre-wired to your CSV)"
      ],
      "id": "dZze1IitYgIC"
    },
    {
      "cell_type": "markdown",
      "metadata": {
        "id": "AotIiLOgYgIE"
      },
      "source": [
        "Import Data Coding vs Not coding sequences\n",
        "\n"
      ],
      "id": "AotIiLOgYgIE"
    },
    {
      "cell_type": "code",
      "source": [
        "!wget https://raw.githubusercontent.com/PlantHealth-Analytics/topics_ai/main/Coding_NonCoding_DNA_Sequences\n"
      ],
      "metadata": {
        "colab": {
          "base_uri": "https://localhost:8080/"
        },
        "id": "TRm4_2GL9ldr",
        "outputId": "9a258c95-5638-408a-f809-adbb436a2312"
      },
      "id": "TRm4_2GL9ldr",
      "execution_count": 21,
      "outputs": [
        {
          "output_type": "stream",
          "name": "stdout",
          "text": [
            "--2025-10-29 17:15:21--  https://raw.githubusercontent.com/PlantHealth-Analytics/topics_ai/main/Coding_NonCoding_DNA_Sequences\n",
            "Resolving raw.githubusercontent.com (raw.githubusercontent.com)... 185.199.108.133, 185.199.109.133, 185.199.110.133, ...\n",
            "Connecting to raw.githubusercontent.com (raw.githubusercontent.com)|185.199.108.133|:443... connected.\n",
            "HTTP request sent, awaiting response... 200 OK\n",
            "Length: 14687733 (14M) [text/plain]\n",
            "Saving to: ‘Coding_NonCoding_DNA_Sequences’\n",
            "\n",
            "\r          Coding_No   0%[                    ]       0  --.-KB/s               \rCoding_NonCoding_DN 100%[===================>]  14.01M  --.-KB/s    in 0.05s   \n",
            "\n",
            "2025-10-29 17:15:21 (271 MB/s) - ‘Coding_NonCoding_DNA_Sequences’ saved [14687733/14687733]\n",
            "\n"
          ]
        }
      ]
    },
    {
      "cell_type": "code",
      "execution_count": 9,
      "metadata": {
        "id": "YF6rhzkRYgIF",
        "colab": {
          "base_uri": "https://localhost:8080/"
        },
        "outputId": "a042ab99-052c-42af-cca0-75b1eea50ea2"
      },
      "outputs": [
        {
          "output_type": "stream",
          "name": "stdout",
          "text": [
            "Device: cuda\n"
          ]
        }
      ],
      "source": [
        "!pip -q install \"transformers>=4.44.0\" \"datasets>=2.20.0\" \"accelerate>=0.33.0\" \"evaluate>=0.4.2\" \"scikit-learn>=1.3.0\" -U\n",
        "import pandas as pd, numpy as np, re, random, os, matplotlib.pyplot as plt, torch\n",
        "from datasets import Dataset, DatasetDict\n",
        "from sklearn.model_selection import train_test_split\n",
        "from sklearn.metrics import accuracy_score, precision_recall_fscore_support, confusion_matrix, ConfusionMatrixDisplay, classification_report\n",
        "from transformers import AutoTokenizer, AutoConfig, AutoModelForSequenceClassification, DataCollatorWithPadding, Trainer, TrainingArguments\n",
        "\n",
        "LABEL2ID = {\"noncoding\":0, \"coding\":1}\n",
        "ID2LABEL = {0:\"noncoding\", 1:\"coding\"}\n",
        "device = \"cuda\" if torch.cuda.is_available() else \"cpu\"\n",
        "print(\"Device:\", device)"
      ],
      "id": "YF6rhzkRYgIF"
    },
    {
      "cell_type": "markdown",
      "metadata": {
        "id": "uuU7MB5_YgIG"
      },
      "source": [
        "## 1) Choose DNABERT variant"
      ],
      "id": "uuU7MB5_YgIG"
    },
    {
      "cell_type": "code",
      "execution_count": 10,
      "metadata": {
        "id": "PJ18JehLYgIG"
      },
      "outputs": [],
      "source": [
        "KMER = 6  # 3..7\n",
        "MODEL_NAME = f\"zhihan1996/DNABERT-2-117M\""
      ],
      "id": "PJ18JehLYgIG"
    },
    {
      "cell_type": "markdown",
      "metadata": {
        "id": "GSO8NYbuYgIH"
      },
      "source": [
        "## 2) Load your file (mapped to expected schema)"
      ],
      "id": "GSO8NYbuYgIH"
    },
    {
      "cell_type": "code",
      "execution_count": 24,
      "metadata": {
        "id": "r9cVYY7VYgIH",
        "colab": {
          "base_uri": "https://localhost:8080/"
        },
        "outputId": "918f2d15-4f43-4f46-81ff-1ad7980c3461"
      },
      "outputs": [
        {
          "output_type": "stream",
          "name": "stdout",
          "text": [
            "Rows: 65321\n",
            "                                            sequence   label\n",
            "0  CTCTTGCGGTCGATCTGGTCACGGGTGATGGTGAAGGTTACGTAGT...  coding\n",
            "1  TCGCGGTCCCGAGCCTGATCGTGCGCCGCGCCAACACGACGGTCGA...  coding\n",
            "2  GGCTACGACGTGACCGCGGGGCAGGTGCTCGTGACCAACGGCGGCA...  coding\n",
            "label\n",
            "noncoding    45603\n",
            "coding       19718\n",
            "Name: count, dtype: int64\n"
          ]
        }
      ],
      "source": [
        "PATH = \"/content/Coding_NonCoding_DNA_Sequences\"\n",
        "df = pd.read_csv(PATH)\n",
        "\n",
        "# Map to expected columns\n",
        "df = df.rename(columns={\"DNA_sequence\":\"sequence\", \"Target\":\"label\"})\n",
        "# Normalize labels to 'coding'/'noncoding'\n",
        "df[\"label\"] = df[\"label\"].map({1:\"coding\", 0:\"noncoding\"}).astype(str)\n",
        "\n",
        "print(\"Rows:\", len(df))\n",
        "print(df[[\"sequence\",\"label\"]].head(3))\n",
        "print(df[\"label\"].value_counts())"
      ],
      "id": "r9cVYY7VYgIH"
    },
    {
      "cell_type": "markdown",
      "metadata": {
        "id": "76EevvqSYgIH"
      },
      "source": [
        "## 3) K-merize + tokenize"
      ],
      "id": "76EevvqSYgIH"
    },
    {
      "cell_type": "code",
      "execution_count": 12,
      "metadata": {
        "id": "mxRZGvBEYgIH",
        "colab": {
          "base_uri": "https://localhost:8080/",
          "height": 113,
          "referenced_widgets": [
            "64bf6e2e63ac435a9e7b09f614fad0c6",
            "417519f2b0e04755af687d915115ff66",
            "d9f1b62f221b4384a5e6acb66b44f75f",
            "f9f0b2cffec446688dc06f85cdabe6a4",
            "180f4f5d315a45a8acdf300f9c1f44d7",
            "22ea9fa0798349f29e1c85f89e0591b4",
            "51d460e756574df4b1b8fcacd336cff0",
            "d848fd845ad0494eabe7f51976325bb2",
            "33c8ddc3187547db97759fdce3886b2a",
            "78caa7da0547404ba55a65a020c05db2",
            "8e53e4cf02b54550a7e64705a7606cd8",
            "e4c8533bdd0d4eba8aa78cc7d8442224",
            "fe0165ffe24d4b349f7c5f4604d2a926",
            "1411ce37506b4cba8a590fa650d1172e",
            "965601c73f1d49feb401f65ea67f3cbe",
            "78e8d33fd21f4445930c4f5798d83da1",
            "6494ee2e00464bc28b55b8f0aba34b3a",
            "e736bc3d7eb54f6f9f5eaa242273c847",
            "6f476dd0711d458b8884c2f09d40f01c",
            "cf1b99d82f9f469e93f0dfe1d23c6d1d",
            "16a6f99c01bd45039dacbcf7ae2fc2d8",
            "f679aba935b846fa9491396f16585955",
            "416e6b0b0b3e41af904cd7ef6c746e31",
            "0be499b82c504a4f93871e8c3a83eea3",
            "66d932ba7f264d5ba3217ebc422d8c86",
            "ca6867fc1f41449581b5b23c1728c4a9",
            "f66908026afb496dabf1fcbc0ecb4757",
            "731c206927d74ebeb460c0d7d0dcf8ac",
            "7c7e23e3ef104b22b89010ce3d0b0938",
            "9122c27d29a54fa4a27eeafe07979ee9",
            "0c1bc37b728d415cab6a0153f143b5c1",
            "1f612bdf43e34d10b82606e61e56b616",
            "12f650acfe95424a8eb9dc62896a8362"
          ]
        },
        "outputId": "029790bb-0f6f-4cd5-c30f-86d0f602e879"
      },
      "outputs": [
        {
          "output_type": "display_data",
          "data": {
            "text/plain": [
              "Map:   0%|          | 0/45724 [00:00<?, ? examples/s]"
            ],
            "application/vnd.jupyter.widget-view+json": {
              "version_major": 2,
              "version_minor": 0,
              "model_id": "64bf6e2e63ac435a9e7b09f614fad0c6"
            }
          },
          "metadata": {}
        },
        {
          "output_type": "display_data",
          "data": {
            "text/plain": [
              "Map:   0%|          | 0/9798 [00:00<?, ? examples/s]"
            ],
            "application/vnd.jupyter.widget-view+json": {
              "version_major": 2,
              "version_minor": 0,
              "model_id": "e4c8533bdd0d4eba8aa78cc7d8442224"
            }
          },
          "metadata": {}
        },
        {
          "output_type": "display_data",
          "data": {
            "text/plain": [
              "Map:   0%|          | 0/9799 [00:00<?, ? examples/s]"
            ],
            "application/vnd.jupyter.widget-view+json": {
              "version_major": 2,
              "version_minor": 0,
              "model_id": "416e6b0b0b3e41af904cd7ef6c746e31"
            }
          },
          "metadata": {}
        }
      ],
      "source": [
        "def seq_to_kmers(seq: str, k: int) -> str:\n",
        "    seq = re.sub(r\"[^ACGTN]\", \"\", str(seq).upper())\n",
        "    return \" \".join([seq[i:i+k] for i in range(0, len(seq)-k+1)])\n",
        "\n",
        "for split in [\"sequence\",\"label\"]:\n",
        "    assert split in df.columns\n",
        "df = df[df[\"sequence\"].str.len() >= KMER+20].reset_index(drop=True)\n",
        "\n",
        "train_df, test_df = train_test_split(df, test_size=0.15, random_state=42, stratify=df[\"label\"])\n",
        "train_df, val_df  = train_test_split(train_df, test_size=0.15/(1-0.15), random_state=42, stratify=train_df[\"label\"])\n",
        "\n",
        "for d in (train_df, val_df, test_df):\n",
        "    d[\"text\"] = d[\"sequence\"].apply(lambda s: seq_to_kmers(s, KMER))\n",
        "    d[\"labels\"] = d[\"label\"].map(LABEL2ID).astype(int)\n",
        "\n",
        "tokenizer = AutoTokenizer.from_pretrained(MODEL_NAME, use_fast=True)\n",
        "hf = DatasetDict({\n",
        "    \"train\": Dataset.from_pandas(train_df[[\"text\",\"labels\"]], preserve_index=False),\n",
        "    \"validation\": Dataset.from_pandas(val_df[[\"text\",\"labels\"]], preserve_index=False),\n",
        "    \"test\": Dataset.from_pandas(test_df[[\"text\",\"labels\"]], preserve_index=False),\n",
        "})\n",
        "def tok_fn(batch): return tokenizer(batch[\"text\"], truncation=True, padding=False, max_length=512)\n",
        "tokenized = hf.map(tok_fn, batched=True, remove_columns=[\"text\"])\n",
        "data_collator = DataCollatorWithPadding(tokenizer=tokenizer)"
      ],
      "id": "mxRZGvBEYgIH"
    },
    {
      "cell_type": "markdown",
      "metadata": {
        "id": "bc91c393"
      },
      "source": [
        "You can search for alternative DNABERT models directly on the Hugging Face Hub [here](https://huggingface.co/models?q=DNABERT)."
      ],
      "id": "bc91c393"
    },
    {
      "cell_type": "markdown",
      "metadata": {
        "id": "UxcmmT8DYgIH"
      },
      "source": [
        "## 4) Train"
      ],
      "id": "UxcmmT8DYgIH"
    },
    {
      "cell_type": "code",
      "execution_count": 8,
      "metadata": {
        "id": "Q6Pqoi7lYgII",
        "colab": {
          "base_uri": "https://localhost:8080/",
          "height": 415
        },
        "outputId": "32c39acc-7a84-4b28-a054-8a23bbace1b0"
      },
      "outputs": [
        {
          "name": "stdout",
          "output_type": "stream",
          "text": [
            "The repository zhihan1996/DNABERT-2-117M contains custom code which must be executed to correctly load the model. You can inspect the repository content at https://hf.co/zhihan1996/DNABERT-2-117M .\n",
            " You can inspect the repository content at https://hf.co/zhihan1996/DNABERT-2-117M.\n",
            "You can avoid this prompt in future by passing the argument `trust_remote_code=True`.\n",
            "\n",
            "Do you wish to run the custom code? [y/N] y\n"
          ]
        },
        {
          "output_type": "stream",
          "name": "stderr",
          "text": [
            "Some weights of BertForSequenceClassification were not initialized from the model checkpoint at zhihan1996/DNABERT-2-117M and are newly initialized: ['bert.embeddings.position_embeddings.weight', 'bert.encoder.layer.0.attention.self.key.bias', 'bert.encoder.layer.0.attention.self.key.weight', 'bert.encoder.layer.0.attention.self.query.bias', 'bert.encoder.layer.0.attention.self.query.weight', 'bert.encoder.layer.0.attention.self.value.bias', 'bert.encoder.layer.0.attention.self.value.weight', 'bert.encoder.layer.0.intermediate.dense.bias', 'bert.encoder.layer.0.intermediate.dense.weight', 'bert.encoder.layer.0.output.LayerNorm.bias', 'bert.encoder.layer.0.output.LayerNorm.weight', 'bert.encoder.layer.0.output.dense.bias', 'bert.encoder.layer.0.output.dense.weight', 'bert.encoder.layer.1.attention.self.key.bias', 'bert.encoder.layer.1.attention.self.key.weight', 'bert.encoder.layer.1.attention.self.query.bias', 'bert.encoder.layer.1.attention.self.query.weight', 'bert.encoder.layer.1.attention.self.value.bias', 'bert.encoder.layer.1.attention.self.value.weight', 'bert.encoder.layer.1.intermediate.dense.bias', 'bert.encoder.layer.1.intermediate.dense.weight', 'bert.encoder.layer.1.output.LayerNorm.bias', 'bert.encoder.layer.1.output.LayerNorm.weight', 'bert.encoder.layer.1.output.dense.bias', 'bert.encoder.layer.1.output.dense.weight', 'bert.encoder.layer.10.attention.self.key.bias', 'bert.encoder.layer.10.attention.self.key.weight', 'bert.encoder.layer.10.attention.self.query.bias', 'bert.encoder.layer.10.attention.self.query.weight', 'bert.encoder.layer.10.attention.self.value.bias', 'bert.encoder.layer.10.attention.self.value.weight', 'bert.encoder.layer.10.intermediate.dense.bias', 'bert.encoder.layer.10.intermediate.dense.weight', 'bert.encoder.layer.10.output.LayerNorm.bias', 'bert.encoder.layer.10.output.LayerNorm.weight', 'bert.encoder.layer.10.output.dense.bias', 'bert.encoder.layer.10.output.dense.weight', 'bert.encoder.layer.11.attention.self.key.bias', 'bert.encoder.layer.11.attention.self.key.weight', 'bert.encoder.layer.11.attention.self.query.bias', 'bert.encoder.layer.11.attention.self.query.weight', 'bert.encoder.layer.11.attention.self.value.bias', 'bert.encoder.layer.11.attention.self.value.weight', 'bert.encoder.layer.11.intermediate.dense.bias', 'bert.encoder.layer.11.intermediate.dense.weight', 'bert.encoder.layer.11.output.LayerNorm.bias', 'bert.encoder.layer.11.output.LayerNorm.weight', 'bert.encoder.layer.11.output.dense.bias', 'bert.encoder.layer.11.output.dense.weight', 'bert.encoder.layer.2.attention.self.key.bias', 'bert.encoder.layer.2.attention.self.key.weight', 'bert.encoder.layer.2.attention.self.query.bias', 'bert.encoder.layer.2.attention.self.query.weight', 'bert.encoder.layer.2.attention.self.value.bias', 'bert.encoder.layer.2.attention.self.value.weight', 'bert.encoder.layer.2.intermediate.dense.bias', 'bert.encoder.layer.2.intermediate.dense.weight', 'bert.encoder.layer.2.output.LayerNorm.bias', 'bert.encoder.layer.2.output.LayerNorm.weight', 'bert.encoder.layer.2.output.dense.bias', 'bert.encoder.layer.2.output.dense.weight', 'bert.encoder.layer.3.attention.self.key.bias', 'bert.encoder.layer.3.attention.self.key.weight', 'bert.encoder.layer.3.attention.self.query.bias', 'bert.encoder.layer.3.attention.self.query.weight', 'bert.encoder.layer.3.attention.self.value.bias', 'bert.encoder.layer.3.attention.self.value.weight', 'bert.encoder.layer.3.intermediate.dense.bias', 'bert.encoder.layer.3.intermediate.dense.weight', 'bert.encoder.layer.3.output.LayerNorm.bias', 'bert.encoder.layer.3.output.LayerNorm.weight', 'bert.encoder.layer.3.output.dense.bias', 'bert.encoder.layer.3.output.dense.weight', 'bert.encoder.layer.4.attention.self.key.bias', 'bert.encoder.layer.4.attention.self.key.weight', 'bert.encoder.layer.4.attention.self.query.bias', 'bert.encoder.layer.4.attention.self.query.weight', 'bert.encoder.layer.4.attention.self.value.bias', 'bert.encoder.layer.4.attention.self.value.weight', 'bert.encoder.layer.4.intermediate.dense.bias', 'bert.encoder.layer.4.intermediate.dense.weight', 'bert.encoder.layer.4.output.LayerNorm.bias', 'bert.encoder.layer.4.output.LayerNorm.weight', 'bert.encoder.layer.4.output.dense.bias', 'bert.encoder.layer.4.output.dense.weight', 'bert.encoder.layer.5.attention.self.key.bias', 'bert.encoder.layer.5.attention.self.key.weight', 'bert.encoder.layer.5.attention.self.query.bias', 'bert.encoder.layer.5.attention.self.query.weight', 'bert.encoder.layer.5.attention.self.value.bias', 'bert.encoder.layer.5.attention.self.value.weight', 'bert.encoder.layer.5.intermediate.dense.bias', 'bert.encoder.layer.5.intermediate.dense.weight', 'bert.encoder.layer.5.output.LayerNorm.bias', 'bert.encoder.layer.5.output.LayerNorm.weight', 'bert.encoder.layer.5.output.dense.bias', 'bert.encoder.layer.5.output.dense.weight', 'bert.encoder.layer.6.attention.self.key.bias', 'bert.encoder.layer.6.attention.self.key.weight', 'bert.encoder.layer.6.attention.self.query.bias', 'bert.encoder.layer.6.attention.self.query.weight', 'bert.encoder.layer.6.attention.self.value.bias', 'bert.encoder.layer.6.attention.self.value.weight', 'bert.encoder.layer.6.intermediate.dense.bias', 'bert.encoder.layer.6.intermediate.dense.weight', 'bert.encoder.layer.6.output.LayerNorm.bias', 'bert.encoder.layer.6.output.LayerNorm.weight', 'bert.encoder.layer.6.output.dense.bias', 'bert.encoder.layer.6.output.dense.weight', 'bert.encoder.layer.7.attention.self.key.bias', 'bert.encoder.layer.7.attention.self.key.weight', 'bert.encoder.layer.7.attention.self.query.bias', 'bert.encoder.layer.7.attention.self.query.weight', 'bert.encoder.layer.7.attention.self.value.bias', 'bert.encoder.layer.7.attention.self.value.weight', 'bert.encoder.layer.7.intermediate.dense.bias', 'bert.encoder.layer.7.intermediate.dense.weight', 'bert.encoder.layer.7.output.LayerNorm.bias', 'bert.encoder.layer.7.output.LayerNorm.weight', 'bert.encoder.layer.7.output.dense.bias', 'bert.encoder.layer.7.output.dense.weight', 'bert.encoder.layer.8.attention.self.key.bias', 'bert.encoder.layer.8.attention.self.key.weight', 'bert.encoder.layer.8.attention.self.query.bias', 'bert.encoder.layer.8.attention.self.query.weight', 'bert.encoder.layer.8.attention.self.value.bias', 'bert.encoder.layer.8.attention.self.value.weight', 'bert.encoder.layer.8.intermediate.dense.bias', 'bert.encoder.layer.8.intermediate.dense.weight', 'bert.encoder.layer.8.output.LayerNorm.bias', 'bert.encoder.layer.8.output.LayerNorm.weight', 'bert.encoder.layer.8.output.dense.bias', 'bert.encoder.layer.8.output.dense.weight', 'bert.encoder.layer.9.attention.self.key.bias', 'bert.encoder.layer.9.attention.self.key.weight', 'bert.encoder.layer.9.attention.self.query.bias', 'bert.encoder.layer.9.attention.self.query.weight', 'bert.encoder.layer.9.attention.self.value.bias', 'bert.encoder.layer.9.attention.self.value.weight', 'bert.encoder.layer.9.intermediate.dense.bias', 'bert.encoder.layer.9.intermediate.dense.weight', 'bert.encoder.layer.9.output.LayerNorm.bias', 'bert.encoder.layer.9.output.LayerNorm.weight', 'bert.encoder.layer.9.output.dense.bias', 'bert.encoder.layer.9.output.dense.weight', 'bert.pooler.dense.bias', 'bert.pooler.dense.weight', 'classifier.bias', 'classifier.weight']\n",
            "You should probably TRAIN this model on a down-stream task to be able to use it for predictions and inference.\n",
            "/tmp/ipython-input-1592819026.py:30: FutureWarning: `tokenizer` is deprecated and will be removed in version 5.0.0 for `Trainer.__init__`. Use `processing_class` instead.\n",
            "  trainer = Trainer(\n",
            "The tokenizer has new PAD/BOS/EOS tokens that differ from the model config and generation config. The model config and generation config were aligned accordingly, being updated with the tokenizer's values. Updated tokens: {'pad_token_id': 3}.\n"
          ]
        },
        {
          "output_type": "display_data",
          "data": {
            "text/plain": [
              "<IPython.core.display.HTML object>"
            ],
            "text/html": [
              "\n",
              "    <div>\n",
              "      \n",
              "      <progress value='17148' max='17148' style='width:300px; height:20px; vertical-align: middle;'></progress>\n",
              "      [17148/17148 16:45, Epoch 3/3]\n",
              "    </div>\n",
              "    <table border=\"1\" class=\"dataframe\">\n",
              "  <thead>\n",
              " <tr style=\"text-align: left;\">\n",
              "      <th>Epoch</th>\n",
              "      <th>Training Loss</th>\n",
              "      <th>Validation Loss</th>\n",
              "      <th>Accuracy</th>\n",
              "      <th>Precision</th>\n",
              "      <th>Recall</th>\n",
              "      <th>F1</th>\n",
              "    </tr>\n",
              "  </thead>\n",
              "  <tbody>\n",
              "    <tr>\n",
              "      <td>1</td>\n",
              "      <td>0.609900</td>\n",
              "      <td>0.616885</td>\n",
              "      <td>0.698102</td>\n",
              "      <td>0.000000</td>\n",
              "      <td>0.000000</td>\n",
              "      <td>0.000000</td>\n",
              "    </tr>\n",
              "    <tr>\n",
              "      <td>2</td>\n",
              "      <td>0.629600</td>\n",
              "      <td>0.617799</td>\n",
              "      <td>0.698102</td>\n",
              "      <td>0.000000</td>\n",
              "      <td>0.000000</td>\n",
              "      <td>0.000000</td>\n",
              "    </tr>\n",
              "    <tr>\n",
              "      <td>3</td>\n",
              "      <td>0.582100</td>\n",
              "      <td>0.590887</td>\n",
              "      <td>0.697183</td>\n",
              "      <td>0.455446</td>\n",
              "      <td>0.015551</td>\n",
              "      <td>0.030075</td>\n",
              "    </tr>\n",
              "  </tbody>\n",
              "</table><p>"
            ]
          },
          "metadata": {}
        },
        {
          "output_type": "execute_result",
          "data": {
            "text/plain": [
              "TrainOutput(global_step=17148, training_loss=0.6185998253703312, metrics={'train_runtime': 1005.6259, 'train_samples_per_second': 136.405, 'train_steps_per_second': 17.052, 'total_flos': 2.730868904684232e+16, 'train_loss': 0.6185998253703312, 'epoch': 3.0})"
            ]
          },
          "metadata": {},
          "execution_count": 8
        }
      ],
      "source": [
        "config = AutoConfig.from_pretrained(MODEL_NAME, num_labels=2, id2label=ID2LABEL, label2id=LABEL2ID)\n",
        "model = AutoModelForSequenceClassification.from_pretrained(MODEL_NAME, config=config)\n",
        "\n",
        "def compute_metrics(eval_pred):\n",
        "    logits, labels = eval_pred\n",
        "    preds = logits.argmax(-1)\n",
        "    prec, rec, f1, _ = precision_recall_fscore_support(labels, preds, average=\"binary\", pos_label=1, zero_division=0)\n",
        "    acc = accuracy_score(labels, preds)\n",
        "    return {\"accuracy\": acc, \"precision\": prec, \"recall\": rec, \"f1\": f1}\n",
        "\n",
        "args = TrainingArguments(\n",
        "    output_dir=\"dnabert_fixedfile\",\n",
        "    eval_strategy=\"epoch\",\n",
        "    save_strategy=\"epoch\",\n",
        "    learning_rate=2e-5,\n",
        "    per_device_train_batch_size=8,\n",
        "    per_device_eval_batch_size=8,\n",
        "    num_train_epochs=3,\n",
        "    weight_decay=0.01,\n",
        "    warmup_ratio=0.06,\n",
        "    logging_steps=50,\n",
        "    load_best_model_at_end=True,\n",
        "    metric_for_best_model=\"f1\",\n",
        "    greater_is_better=True,\n",
        "    fp16=torch.cuda.is_available(),\n",
        "    report_to=\"none\",\n",
        "    seed=42,\n",
        ")\n",
        "\n",
        "trainer = Trainer(\n",
        "    model=model,\n",
        "    args=args,\n",
        "    train_dataset=tokenized[\"train\"],\n",
        "    eval_dataset=tokenized[\"validation\"],\n",
        "    tokenizer=tokenizer,\n",
        "    data_collator=data_collator,\n",
        "    compute_metrics=compute_metrics,\n",
        ")\n",
        "\n",
        "trainer.train()"
      ],
      "id": "Q6Pqoi7lYgII"
    },
    {
      "cell_type": "code",
      "metadata": {
        "id": "6b4efde6",
        "colab": {
          "base_uri": "https://localhost:8080/"
        },
        "outputId": "3369536b-568f-474f-eb29-3d49c3ddb350"
      },
      "source": [
        "# Get a sample sequence\n",
        "sample_sequence = df[\"sequence\"].iloc[0]\n",
        "print(f\"Original Sequence: {sample_sequence}\\n\")\n",
        "\n",
        "# K-merize the sequence\n",
        "kmer_sequence = seq_to_kmers(sample_sequence, KMER)\n",
        "print(f\"K-merized Sequence (K={KMER}): {kmer_sequence}\\n\")\n",
        "\n",
        "# Tokenize the k-merized sequence\n",
        "tokenized_output = tokenizer(kmer_sequence, truncation=True, padding=True, max_length=512, return_tensors=\"pt\")\n",
        "print(f\"Tokenized Output:\\n{tokenized_output}\\n\")\n",
        "\n",
        "# Move tokens to the appropriate device\n",
        "input_ids = tokenized_output[\"input_ids\"].to(device)\n",
        "attention_mask = tokenized_output[\"attention_mask\"].to(device)\n",
        "\n",
        "# Get embeddings from the model\n",
        "with torch.no_grad():\n",
        "    # The output of the model includes various components depending on the model architecture.\n",
        "    # For getting embeddings, we typically look at the hidden states.\n",
        "    # We need to ensure the model is in evaluation mode\n",
        "    model.eval()\n",
        "    outputs = model(input_ids=input_ids, attention_mask=attention_mask, output_hidden_states=True)\n",
        "    # The last hidden state usually represents the token embeddings\n",
        "    embeddings = outputs.hidden_states[-1]\n",
        "\n",
        "print(f\"Embeddings shape: {embeddings.shape}\")\n",
        "print(f\"Embeddings (first token, first 10 dimensions):\\n{embeddings[0, 0, :10]}\\n\")"
      ],
      "id": "6b4efde6",
      "execution_count": 16,
      "outputs": [
        {
          "output_type": "stream",
          "name": "stdout",
          "text": [
            "Original Sequence: CTCTTGCGGTCGATCTGGTCACGGGTGATGGTGAAGGTTACGTAGTCGGGAGCGCCTTCGCGCGAGACCACGACCTTTACCTGCGTGCCGCGAGGTCCCTTGAGC\n",
            "\n",
            "K-merized Sequence (K=6): CTCTTG TCTTGC CTTGCG TTGCGG TGCGGT GCGGTC CGGTCG GGTCGA GTCGAT TCGATC CGATCT GATCTG ATCTGG TCTGGT CTGGTC TGGTCA GGTCAC GTCACG TCACGG CACGGG ACGGGT CGGGTG GGGTGA GGTGAT GTGATG TGATGG GATGGT ATGGTG TGGTGA GGTGAA GTGAAG TGAAGG GAAGGT AAGGTT AGGTTA GGTTAC GTTACG TTACGT TACGTA ACGTAG CGTAGT GTAGTC TAGTCG AGTCGG GTCGGG TCGGGA CGGGAG GGGAGC GGAGCG GAGCGC AGCGCC GCGCCT CGCCTT GCCTTC CCTTCG CTTCGC TTCGCG TCGCGC CGCGCG GCGCGA CGCGAG GCGAGA CGAGAC GAGACC AGACCA GACCAC ACCACG CCACGA CACGAC ACGACC CGACCT GACCTT ACCTTT CCTTTA CTTTAC TTTACC TTACCT TACCTG ACCTGC CCTGCG CTGCGT TGCGTG GCGTGC CGTGCC GTGCCG TGCCGC GCCGCG CCGCGA CGCGAG GCGAGG CGAGGT GAGGTC AGGTCC GGTCCC GTCCCT TCCCTT CCCTTG CCTTGA CTTGAG TTGAGC\n",
            "\n",
            "Tokenized Output:\n",
            "{'input_ids': tensor([[   1,  149,    7,   47,   19,   29,   19,    7,   10,  247,   11,   72,\n",
            "            8,  247,   16,   72,   16,    7,   15,  359,   41,   17,    8,  359,\n",
            "           16,   93, 2877,  969,    5,   54,    7,   54, 1049, 3074,   11,   67,\n",
            "          272,    6,   67, 3206, 2387,  866,    7,    5,   72, 1049,   72,   30,\n",
            "         1087,  331,    8,  558,  188,    7,   83, 1049, 3218,   30,   11,   61,\n",
            "          958,  135,    7, 3046,  259,    8,    9,  101,    5,  387,  387,    6,\n",
            "           77, 3206,   24,    6, 1049, 3857,    5,  194,    7,  194, 1049, 3841,\n",
            "         1211,    7,    5, 3194, 3194,    7, 2590,   72,   17,    7,  117,   19,\n",
            "           33,   19,    7,  212,   19,    5,  601,  601,    8, 1219,  184,    6,\n",
            "           64, 3206,   29,  118,   10,  118,    7,   16,  511,  118,   19,    7,\n",
            "         4081,  118,   17,    7, 1158,  425,    6,   50,   13,    5,  262,  262,\n",
            "            6,    5,   34, 3206, 2505, 1106,    6,    5, 2573, 2573,    8,  950,\n",
            "            5,   64,    8,   64,   14,  358,    6,   94,   13, 1530,    8, 1392,\n",
            "            5,   74,    6,   74, 3206,   28,    6, 1049,   11,  123,  577,    6,\n",
            "          123,   13,  621,    7,  139,   19,   36,   19,    7,   13,  405,  118,\n",
            "           17,    7, 1493,  393,    8,   71,   16,    5,  624,  624,    6,   90,\n",
            "         1038,  555,  232,    7,   64,   17,  487,    7,   10,  212,    2]]), 'token_type_ids': tensor([[0, 0, 0, 0, 0, 0, 0, 0, 0, 0, 0, 0, 0, 0, 0, 0, 0, 0, 0, 0, 0, 0, 0, 0,\n",
            "         0, 0, 0, 0, 0, 0, 0, 0, 0, 0, 0, 0, 0, 0, 0, 0, 0, 0, 0, 0, 0, 0, 0, 0,\n",
            "         0, 0, 0, 0, 0, 0, 0, 0, 0, 0, 0, 0, 0, 0, 0, 0, 0, 0, 0, 0, 0, 0, 0, 0,\n",
            "         0, 0, 0, 0, 0, 0, 0, 0, 0, 0, 0, 0, 0, 0, 0, 0, 0, 0, 0, 0, 0, 0, 0, 0,\n",
            "         0, 0, 0, 0, 0, 0, 0, 0, 0, 0, 0, 0, 0, 0, 0, 0, 0, 0, 0, 0, 0, 0, 0, 0,\n",
            "         0, 0, 0, 0, 0, 0, 0, 0, 0, 0, 0, 0, 0, 0, 0, 0, 0, 0, 0, 0, 0, 0, 0, 0,\n",
            "         0, 0, 0, 0, 0, 0, 0, 0, 0, 0, 0, 0, 0, 0, 0, 0, 0, 0, 0, 0, 0, 0, 0, 0,\n",
            "         0, 0, 0, 0, 0, 0, 0, 0, 0, 0, 0, 0, 0, 0, 0, 0, 0, 0, 0, 0, 0, 0, 0, 0,\n",
            "         0, 0, 0, 0, 0, 0, 0, 0, 0, 0, 0]]), 'attention_mask': tensor([[1, 1, 1, 1, 1, 1, 1, 1, 1, 1, 1, 1, 1, 1, 1, 1, 1, 1, 1, 1, 1, 1, 1, 1,\n",
            "         1, 1, 1, 1, 1, 1, 1, 1, 1, 1, 1, 1, 1, 1, 1, 1, 1, 1, 1, 1, 1, 1, 1, 1,\n",
            "         1, 1, 1, 1, 1, 1, 1, 1, 1, 1, 1, 1, 1, 1, 1, 1, 1, 1, 1, 1, 1, 1, 1, 1,\n",
            "         1, 1, 1, 1, 1, 1, 1, 1, 1, 1, 1, 1, 1, 1, 1, 1, 1, 1, 1, 1, 1, 1, 1, 1,\n",
            "         1, 1, 1, 1, 1, 1, 1, 1, 1, 1, 1, 1, 1, 1, 1, 1, 1, 1, 1, 1, 1, 1, 1, 1,\n",
            "         1, 1, 1, 1, 1, 1, 1, 1, 1, 1, 1, 1, 1, 1, 1, 1, 1, 1, 1, 1, 1, 1, 1, 1,\n",
            "         1, 1, 1, 1, 1, 1, 1, 1, 1, 1, 1, 1, 1, 1, 1, 1, 1, 1, 1, 1, 1, 1, 1, 1,\n",
            "         1, 1, 1, 1, 1, 1, 1, 1, 1, 1, 1, 1, 1, 1, 1, 1, 1, 1, 1, 1, 1, 1, 1, 1,\n",
            "         1, 1, 1, 1, 1, 1, 1, 1, 1, 1, 1]])}\n",
            "\n",
            "Embeddings shape: torch.Size([1, 203, 768])\n",
            "Embeddings (first token, first 10 dimensions):\n",
            "tensor([ 1.2177, -1.2891, -1.0930, -1.4271, -2.3126,  0.3829,  0.3346,  0.0920,\n",
            "         0.3652,  1.7723], device='cuda:0')\n",
            "\n"
          ]
        }
      ]
    },
    {
      "cell_type": "markdown",
      "metadata": {
        "id": "2bbd4b72"
      },
      "source": [
        "## Numerical Tokens and Embeddings\n",
        "\n",
        "After the DNA sequence is k-merized and then tokenized into numerical tokens, these tokens are used as input to the model's embedding layer.\n",
        "\n",
        "The embedding layer converts each numerical token into a dense vector of numbers called an **embedding**. These embeddings capture meaningful information about the k-mers (or tokenized k-mers) based on the data the model was trained on.\n",
        "\n",
        "These embedding vectors are then processed by the rest of the model to perform the downstream task, such as classifying coding vs. non-coding sequences."
      ],
      "id": "2bbd4b72"
    },
    {
      "cell_type": "markdown",
      "metadata": {
        "id": "WrgIsWe4YgII"
      },
      "source": [
        "## 5) Evaluate + Confusion Matrix"
      ],
      "id": "WrgIsWe4YgII"
    },
    {
      "cell_type": "code",
      "execution_count": 17,
      "metadata": {
        "id": "jwoCEWZOYgII",
        "colab": {
          "base_uri": "https://localhost:8080/",
          "height": 541
        },
        "outputId": "8e912c1c-04ba-4ffe-fb32-fb3b79fea923"
      },
      "outputs": [
        {
          "output_type": "display_data",
          "data": {
            "text/plain": [
              "<IPython.core.display.HTML object>"
            ],
            "text/html": []
          },
          "metadata": {}
        },
        {
          "output_type": "stream",
          "name": "stdout",
          "text": [
            "Accuracy: 0.6978263088070211\n",
            "Precision: 0.4838709677419355\n",
            "Recall: 0.015212981744421906\n",
            "F1: 0.029498525073746312\n"
          ]
        },
        {
          "output_type": "display_data",
          "data": {
            "text/plain": [
              "<Figure size 640x480 with 2 Axes>"
            ],
            "image/png": "[encoded data removed]"
          },
          "metadata": {}
        }
      ],
      "source": [
        "pred = trainer.predict(tokenized[\"test\"])\n",
        "y_true = pred.label_ids\n",
        "y_pred = pred.predictions.argmax(-1)\n",
        "print(\"Accuracy:\", accuracy_score(y_true, y_pred))\n",
        "prec, rec, f1, _ = precision_recall_fscore_support(y_true, y_pred, average=\"binary\", pos_label=1, zero_division=0)\n",
        "print(\"Precision:\", prec); print(\"Recall:\", rec); print(\"F1:\", f1)\n",
        "cm = confusion_matrix(y_true, y_pred)\n",
        "disp = ConfusionMatrixDisplay(confusion_matrix=cm, display_labels=[ID2LABEL[0], ID2LABEL[1]])\n",
        "disp.plot(); plt.title(\"Confusion matrix (test)\"); plt.show()"
      ],
      "id": "jwoCEWZOYgII"
    },
    {
      "cell_type": "markdown",
      "metadata": {
        "id": "Akw8FYqnYgII"
      },
      "source": [
        "## 6) Inference"
      ],
      "id": "Akw8FYqnYgII"
    },
    {
      "cell_type": "code",
      "execution_count": 19,
      "metadata": {
        "id": "2hufK_EnYgII",
        "colab": {
          "base_uri": "https://localhost:8080/"
        },
        "outputId": "d957465c-f692-4717-b0e8-17e17885b000"
      },
      "outputs": [
        {
          "output_type": "stream",
          "name": "stdout",
          "text": [
            "{'coding_prob': 0.2298699915409088, 'noncoding_prob': 0.7701299786567688, 'prediction': 'noncoding'}\n"
          ]
        }
      ],
      "source": [
        "def predict_sequence(seq: str):\n",
        "    seq = re.sub(r\"[^ACGTN]\", \"\", str(seq).upper())\n",
        "    text = \" \".join([seq[i:i+KMER] for i in range(0, len(seq)-KMER+1)])\n",
        "    enc = tokenizer([text], truncation=True, padding=True, max_length=512, return_tensors=\"pt\").to(device)\n",
        "    with torch.no_grad():\n",
        "        out = trainer.model(**enc).logits.softmax(-1).cpu().numpy()[0]\n",
        "    return {\"coding_prob\": float(out[1]), \"noncoding_prob\": float(out[0]), \"prediction\": ID2LABEL[int(out.argmax())]}\n",
        "\n",
        "print(predict_sequence(\"ATGGCCATTGTAATGGGCCGCTGAAAGGGTGCCCGATAGATGGCCATTGTAATGGGCCGCTGAAAGGGTGCCCGATAGATGGCCATTGTAATGGGCCGCTGAAAGGGTGCCCGATAGATGGCCATTGTAATGGGCCGCTGAAAGGGTGCCCGATAGATGGCCATTGTAATGGGCCGCTGAAAGGGTGCCCGATAG\"))"
      ],
      "id": "2hufK_EnYgII"
    }
  ],
  "metadata": {
    "kernelspec": {
      "display_name": "Python 3",
      "name": "python3"
    },
    "language_info": {
      "name": "python",
      "version": "3.x"
    },
    "colab": {
      "provenance": [],
      "machine_shape": "hm",
      "gpuType": "A100"
    },
    "accelerator": "GPU",
    "widgets": {
      "application/vnd.jupyter.widget-state+json": {
        "64bf6e2e63ac435a9e7b09f614fad0c6": {
          "model_module": "@jupyter-widgets/controls",
          "model_name": "HBoxModel",
          "model_module_version": "1.5.0",
          "state": {
            "_dom_classes": [],
            "_model_module": "@jupyter-widgets/controls",
            "_model_module_version": "1.5.0",
            "_model_name": "HBoxModel",
            "_view_count": null,
            "_view_module": "@jupyter-widgets/controls",
            "_view_module_version": "1.5.0",
            "_view_name": "HBoxView",
            "box_style": "",
            "children": [
              "IPY_MODEL_417519f2b0e04755af687d915115ff66",
              "IPY_MODEL_d9f1b62f221b4384a5e6acb66b44f75f",
              "IPY_MODEL_f9f0b2cffec446688dc06f85cdabe6a4"
            ],
            "layout": "IPY_MODEL_180f4f5d315a45a8acdf300f9c1f44d7"
          }
        },
        "417519f2b0e04755af687d915115ff66": {
          "model_module": "@jupyter-widgets/controls",
          "model_name": "HTMLModel",
          "model_module_version": "1.5.0",
          "state": {
            "_dom_classes": [],
            "_model_module": "@jupyter-widgets/controls",
            "_model_module_version": "1.5.0",
            "_model_name": "HTMLModel",
            "_view_count": null,
            "_view_module": "@jupyter-widgets/controls",
            "_view_module_version": "1.5.0",
            "_view_name": "HTMLView",
            "description": "",
            "description_tooltip": null,
            "layout": "IPY_MODEL_22ea9fa0798349f29e1c85f89e0591b4",
            "placeholder": "​",
            "style": "IPY_MODEL_51d460e756574df4b1b8fcacd336cff0",
            "value": "Map: 100%"
          }
        },
        "d9f1b62f221b4384a5e6acb66b44f75f": {
          "model_module": "@jupyter-widgets/controls",
          "model_name": "FloatProgressModel",
          "model_module_version": "1.5.0",
          "state": {
            "_dom_classes": [],
            "_model_module": "@jupyter-widgets/controls",
            "_model_module_version": "1.5.0",
            "_model_name": "FloatProgressModel",
            "_view_count": null,
            "_view_module": "@jupyter-widgets/controls",
            "_view_module_version": "1.5.0",
            "_view_name": "ProgressView",
            "bar_style": "success",
            "description": "",
            "description_tooltip": null,
            "layout": "IPY_MODEL_d848fd845ad0494eabe7f51976325bb2",
            "max": 45724,
            "min": 0,
            "orientation": "horizontal",
            "style": "IPY_MODEL_33c8ddc3187547db97759fdce3886b2a",
            "value": 45724
          }
        },
        "f9f0b2cffec446688dc06f85cdabe6a4": {
          "model_module": "@jupyter-widgets/controls",
          "model_name": "HTMLModel",
          "model_module_version": "1.5.0",
          "state": {
            "_dom_classes": [],
            "_model_module": "@jupyter-widgets/controls",
            "_model_module_version": "1.5.0",
            "_model_name": "HTMLModel",
            "_view_count": null,
            "_view_module": "@jupyter-widgets/controls",
            "_view_module_version": "1.5.0",
            "_view_name": "HTMLView",
            "description": "",
            "description_tooltip": null,
            "layout": "IPY_MODEL_78caa7da0547404ba55a65a020c05db2",
            "placeholder": "​",
            "style": "IPY_MODEL_8e53e4cf02b54550a7e64705a7606cd8",
            "value": " 45724/45724 [00:11&lt;00:00, 4139.57 examples/s]"
          }
        },
        "180f4f5d315a45a8acdf300f9c1f44d7": {
          "model_module": "@jupyter-widgets/base",
          "model_name": "LayoutModel",
          "model_module_version": "1.2.0",
          "state": {
            "_model_module": "@jupyter-widgets/base",
            "_model_module_version": "1.2.0",
            "_model_name": "LayoutModel",
            "_view_count": null,
            "_view_module": "@jupyter-widgets/base",
            "_view_module_version": "1.2.0",
            "_view_name": "LayoutView",
            "align_content": null,
            "align_items": null,
            "align_self": null,
            "border": null,
            "bottom": null,
            "display": null,
            "flex": null,
            "flex_flow": null,
            "grid_area": null,
            "grid_auto_columns": null,
            "grid_auto_flow": null,
            "grid_auto_rows": null,
            "grid_column": null,
            "grid_gap": null,
            "grid_row": null,
            "grid_template_areas": null,
            "grid_template_columns": null,
            "grid_template_rows": null,
            "height": null,
            "justify_content": null,
            "justify_items": null,
            "left": null,
            "margin": null,
            "max_height": null,
            "max_width": null,
            "min_height": null,
            "min_width": null,
            "object_fit": null,
            "object_position": null,
            "order": null,
            "overflow": null,
            "overflow_x": null,
            "overflow_y": null,
            "padding": null,
            "right": null,
            "top": null,
            "visibility": null,
            "width": null
          }
        },
        "22ea9fa0798349f29e1c85f89e0591b4": {
          "model_module": "@jupyter-widgets/base",
          "model_name": "LayoutModel",
          "model_module_version": "1.2.0",
          "state": {
            "_model_module": "@jupyter-widgets/base",
            "_model_module_version": "1.2.0",
            "_model_name": "LayoutModel",
            "_view_count": null,
            "_view_module": "@jupyter-widgets/base",
            "_view_module_version": "1.2.0",
            "_view_name": "LayoutView",
            "align_content": null,
            "align_items": null,
            "align_self": null,
            "border": null,
            "bottom": null,
            "display": null,
            "flex": null,
            "flex_flow": null,
            "grid_area": null,
            "grid_auto_columns": null,
            "grid_auto_flow": null,
            "grid_auto_rows": null,
            "grid_column": null,
            "grid_gap": null,
            "grid_row": null,
            "grid_template_areas": null,
            "grid_template_columns": null,
            "grid_template_rows": null,
            "height": null,
            "justify_content": null,
            "justify_items": null,
            "left": null,
            "margin": null,
            "max_height": null,
            "max_width": null,
            "min_height": null,
            "min_width": null,
            "object_fit": null,
            "object_position": null,
            "order": null,
            "overflow": null,
            "overflow_x": null,
            "overflow_y": null,
            "padding": null,
            "right": null,
            "top": null,
            "visibility": null,
            "width": null
          }
        },
        "51d460e756574df4b1b8fcacd336cff0": {
          "model_module": "@jupyter-widgets/controls",
          "model_name": "DescriptionStyleModel",
          "model_module_version": "1.5.0",
          "state": {
            "_model_module": "@jupyter-widgets/controls",
            "_model_module_version": "1.5.0",
            "_model_name": "DescriptionStyleModel",
            "_view_count": null,
            "_view_module": "@jupyter-widgets/base",
            "_view_module_version": "1.2.0",
            "_view_name": "StyleView",
            "description_width": ""
          }
        },
        "d848fd845ad0494eabe7f51976325bb2": {
          "model_module": "@jupyter-widgets/base",
          "model_name": "LayoutModel",
          "model_module_version": "1.2.0",
          "state": {
            "_model_module": "@jupyter-widgets/base",
            "_model_module_version": "1.2.0",
            "_model_name": "LayoutModel",
            "_view_count": null,
            "_view_module": "@jupyter-widgets/base",
            "_view_module_version": "1.2.0",
            "_view_name": "LayoutView",
            "align_content": null,
            "align_items": null,
            "align_self": null,
            "border": null,
            "bottom": null,
            "display": null,
            "flex": null,
            "flex_flow": null,
            "grid_area": null,
            "grid_auto_columns": null,
            "grid_auto_flow": null,
            "grid_auto_rows": null,
            "grid_column": null,
            "grid_gap": null,
            "grid_row": null,
            "grid_template_areas": null,
            "grid_template_columns": null,
            "grid_template_rows": null,
            "height": null,
            "justify_content": null,
            "justify_items": null,
            "left": null,
            "margin": null,
            "max_height": null,
            "max_width": null,
            "min_height": null,
            "min_width": null,
            "object_fit": null,
            "object_position": null,
            "order": null,
            "overflow": null,
            "overflow_x": null,
            "overflow_y": null,
            "padding": null,
            "right": null,
            "top": null,
            "visibility": null,
            "width": null
          }
        },
        "33c8ddc3187547db97759fdce3886b2a": {
          "model_module": "@jupyter-widgets/controls",
          "model_name": "ProgressStyleModel",
          "model_module_version": "1.5.0",
          "state": {
            "_model_module": "@jupyter-widgets/controls",
            "_model_module_version": "1.5.0",
            "_model_name": "ProgressStyleModel",
            "_view_count": null,
            "_view_module": "@jupyter-widgets/base",
            "_view_module_version": "1.2.0",
            "_view_name": "StyleView",
            "bar_color": null,
            "description_width": ""
          }
        },
        "78caa7da0547404ba55a65a020c05db2": {
          "model_module": "@jupyter-widgets/base",
          "model_name": "LayoutModel",
          "model_module_version": "1.2.0",
          "state": {
            "_model_module": "@jupyter-widgets/base",
            "_model_module_version": "1.2.0",
            "_model_name": "LayoutModel",
            "_view_count": null,
            "_view_module": "@jupyter-widgets/base",
            "_view_module_version": "1.2.0",
            "_view_name": "LayoutView",
            "align_content": null,
            "align_items": null,
            "align_self": null,
            "border": null,
            "bottom": null,
            "display": null,
            "flex": null,
            "flex_flow": null,
            "grid_area": null,
            "grid_auto_columns": null,
            "grid_auto_flow": null,
            "grid_auto_rows": null,
            "grid_column": null,
            "grid_gap": null,
            "grid_row": null,
            "grid_template_areas": null,
            "grid_template_columns": null,
            "grid_template_rows": null,
            "height": null,
            "justify_content": null,
            "justify_items": null,
            "left": null,
            "margin": null,
            "max_height": null,
            "max_width": null,
            "min_height": null,
            "min_width": null,
            "object_fit": null,
            "object_position": null,
            "order": null,
            "overflow": null,
            "overflow_x": null,
            "overflow_y": null,
            "padding": null,
            "right": null,
            "top": null,
            "visibility": null,
            "width": null
          }
        },
        "8e53e4cf02b54550a7e64705a7606cd8": {
          "model_module": "@jupyter-widgets/controls",
          "model_name": "DescriptionStyleModel",
          "model_module_version": "1.5.0",
          "state": {
            "_model_module": "@jupyter-widgets/controls",
            "_model_module_version": "1.5.0",
            "_model_name": "DescriptionStyleModel",
            "_view_count": null,
            "_view_module": "@jupyter-widgets/base",
            "_view_module_version": "1.2.0",
            "_view_name": "StyleView",
            "description_width": ""
          }
        },
        "e4c8533bdd0d4eba8aa78cc7d8442224": {
          "model_module": "@jupyter-widgets/controls",
          "model_name": "HBoxModel",
          "model_module_version": "1.5.0",
          "state": {
            "_dom_classes": [],
            "_model_module": "@jupyter-widgets/controls",
            "_model_module_version": "1.5.0",
            "_model_name": "HBoxModel",
            "_view_count": null,
            "_view_module": "@jupyter-widgets/controls",
            "_view_module_version": "1.5.0",
            "_view_name": "HBoxView",
            "box_style": "",
            "children": [
              "IPY_MODEL_fe0165ffe24d4b349f7c5f4604d2a926",
              "IPY_MODEL_1411ce37506b4cba8a590fa650d1172e",
              "IPY_MODEL_965601c73f1d49feb401f65ea67f3cbe"
            ],
            "layout": "IPY_MODEL_78e8d33fd21f4445930c4f5798d83da1"
          }
        },
        "fe0165ffe24d4b349f7c5f4604d2a926": {
          "model_module": "@jupyter-widgets/controls",
          "model_name": "HTMLModel",
          "model_module_version": "1.5.0",
          "state": {
            "_dom_classes": [],
            "_model_module": "@jupyter-widgets/controls",
            "_model_module_version": "1.5.0",
            "_model_name": "HTMLModel",
            "_view_count": null,
            "_view_module": "@jupyter-widgets/controls",
            "_view_module_version": "1.5.0",
            "_view_name": "HTMLView",
            "description": "",
            "description_tooltip": null,
            "layout": "IPY_MODEL_6494ee2e00464bc28b55b8f0aba34b3a",
            "placeholder": "​",
            "style": "IPY_MODEL_e736bc3d7eb54f6f9f5eaa242273c847",
            "value": "Map: 100%"
          }
        },
        "1411ce37506b4cba8a590fa650d1172e": {
          "model_module": "@jupyter-widgets/controls",
          "model_name": "FloatProgressModel",
          "model_module_version": "1.5.0",
          "state": {
            "_dom_classes": [],
            "_model_module": "@jupyter-widgets/controls",
            "_model_module_version": "1.5.0",
            "_model_name": "FloatProgressModel",
            "_view_count": null,
            "_view_module": "@jupyter-widgets/controls",
            "_view_module_version": "1.5.0",
            "_view_name": "ProgressView",
            "bar_style": "success",
            "description": "",
            "description_tooltip": null,
            "layout": "IPY_MODEL_6f476dd0711d458b8884c2f09d40f01c",
            "max": 9798,
            "min": 0,
            "orientation": "horizontal",
            "style": "IPY_MODEL_cf1b99d82f9f469e93f0dfe1d23c6d1d",
            "value": 9798
          }
        },
        "965601c73f1d49feb401f65ea67f3cbe": {
          "model_module": "@jupyter-widgets/controls",
          "model_name": "HTMLModel",
          "model_module_version": "1.5.0",
          "state": {
            "_dom_classes": [],
            "_model_module": "@jupyter-widgets/controls",
            "_model_module_version": "1.5.0",
            "_model_name": "HTMLModel",
            "_view_count": null,
            "_view_module": "@jupyter-widgets/controls",
            "_view_module_version": "1.5.0",
            "_view_name": "HTMLView",
            "description": "",
            "description_tooltip": null,
            "layout": "IPY_MODEL_16a6f99c01bd45039dacbcf7ae2fc2d8",
            "placeholder": "​",
            "style": "IPY_MODEL_f679aba935b846fa9491396f16585955",
            "value": " 9798/9798 [00:02&lt;00:00, 4111.02 examples/s]"
          }
        },
        "78e8d33fd21f4445930c4f5798d83da1": {
          "model_module": "@jupyter-widgets/base",
          "model_name": "LayoutModel",
          "model_module_version": "1.2.0",
          "state": {
            "_model_module": "@jupyter-widgets/base",
            "_model_module_version": "1.2.0",
            "_model_name": "LayoutModel",
            "_view_count": null,
            "_view_module": "@jupyter-widgets/base",
            "_view_module_version": "1.2.0",
            "_view_name": "LayoutView",
            "align_content": null,
            "align_items": null,
            "align_self": null,
            "border": null,
            "bottom": null,
            "display": null,
            "flex": null,
            "flex_flow": null,
            "grid_area": null,
            "grid_auto_columns": null,
            "grid_auto_flow": null,
            "grid_auto_rows": null,
            "grid_column": null,
            "grid_gap": null,
            "grid_row": null,
            "grid_template_areas": null,
            "grid_template_columns": null,
            "grid_template_rows": null,
            "height": null,
            "justify_content": null,
            "justify_items": null,
            "left": null,
            "margin": null,
            "max_height": null,
            "max_width": null,
            "min_height": null,
            "min_width": null,
            "object_fit": null,
            "object_position": null,
            "order": null,
            "overflow": null,
            "overflow_x": null,
            "overflow_y": null,
            "padding": null,
            "right": null,
            "top": null,
            "visibility": null,
            "width": null
          }
        },
        "6494ee2e00464bc28b55b8f0aba34b3a": {
          "model_module": "@jupyter-widgets/base",
          "model_name": "LayoutModel",
          "model_module_version": "1.2.0",
          "state": {
            "_model_module": "@jupyter-widgets/base",
            "_model_module_version": "1.2.0",
            "_model_name": "LayoutModel",
            "_view_count": null,
            "_view_module": "@jupyter-widgets/base",
            "_view_module_version": "1.2.0",
            "_view_name": "LayoutView",
            "align_content": null,
            "align_items": null,
            "align_self": null,
            "border": null,
            "bottom": null,
            "display": null,
            "flex": null,
            "flex_flow": null,
            "grid_area": null,
            "grid_auto_columns": null,
            "grid_auto_flow": null,
            "grid_auto_rows": null,
            "grid_column": null,
            "grid_gap": null,
            "grid_row": null,
            "grid_template_areas": null,
            "grid_template_columns": null,
            "grid_template_rows": null,
            "height": null,
            "justify_content": null,
            "justify_items": null,
            "left": null,
            "margin": null,
            "max_height": null,
            "max_width": null,
            "min_height": null,
            "min_width": null,
            "object_fit": null,
            "object_position": null,
            "order": null,
            "overflow": null,
            "overflow_x": null,
            "overflow_y": null,
            "padding": null,
            "right": null,
            "top": null,
            "visibility": null,
            "width": null
          }
        },
        "e736bc3d7eb54f6f9f5eaa242273c847": {
          "model_module": "@jupyter-widgets/controls",
          "model_name": "DescriptionStyleModel",
          "model_module_version": "1.5.0",
          "state": {
            "_model_module": "@jupyter-widgets/controls",
            "_model_module_version": "1.5.0",
            "_model_name": "DescriptionStyleModel",
            "_view_count": null,
            "_view_module": "@jupyter-widgets/base",
            "_view_module_version": "1.2.0",
            "_view_name": "StyleView",
            "description_width": ""
          }
        },
        "6f476dd0711d458b8884c2f09d40f01c": {
          "model_module": "@jupyter-widgets/base",
          "model_name": "LayoutModel",
          "model_module_version": "1.2.0",
          "state": {
            "_model_module": "@jupyter-widgets/base",
            "_model_module_version": "1.2.0",
            "_model_name": "LayoutModel",
            "_view_count": null,
            "_view_module": "@jupyter-widgets/base",
            "_view_module_version": "1.2.0",
            "_view_name": "LayoutView",
            "align_content": null,
            "align_items": null,
            "align_self": null,
            "border": null,
            "bottom": null,
            "display": null,
            "flex": null,
            "flex_flow": null,
            "grid_area": null,
            "grid_auto_columns": null,
            "grid_auto_flow": null,
            "grid_auto_rows": null,
            "grid_column": null,
            "grid_gap": null,
            "grid_row": null,
            "grid_template_areas": null,
            "grid_template_columns": null,
            "grid_template_rows": null,
            "height": null,
            "justify_content": null,
            "justify_items": null,
            "left": null,
            "margin": null,
            "max_height": null,
            "max_width": null,
            "min_height": null,
            "min_width": null,
            "object_fit": null,
            "object_position": null,
            "order": null,
            "overflow": null,
            "overflow_x": null,
            "overflow_y": null,
            "padding": null,
            "right": null,
            "top": null,
            "visibility": null,
            "width": null
          }
        },
        "cf1b99d82f9f469e93f0dfe1d23c6d1d": {
          "model_module": "@jupyter-widgets/controls",
          "model_name": "ProgressStyleModel",
          "model_module_version": "1.5.0",
          "state": {
            "_model_module": "@jupyter-widgets/controls",
            "_model_module_version": "1.5.0",
            "_model_name": "ProgressStyleModel",
            "_view_count": null,
            "_view_module": "@jupyter-widgets/base",
            "_view_module_version": "1.2.0",
            "_view_name": "StyleView",
            "bar_color": null,
            "description_width": ""
          }
        },
        "16a6f99c01bd45039dacbcf7ae2fc2d8": {
          "model_module": "@jupyter-widgets/base",
          "model_name": "LayoutModel",
          "model_module_version": "1.2.0",
          "state": {
            "_model_module": "@jupyter-widgets/base",
            "_model_module_version": "1.2.0",
            "_model_name": "LayoutModel",
            "_view_count": null,
            "_view_module": "@jupyter-widgets/base",
            "_view_module_version": "1.2.0",
            "_view_name": "LayoutView",
            "align_content": null,
            "align_items": null,
            "align_self": null,
            "border": null,
            "bottom": null,
            "display": null,
            "flex": null,
            "flex_flow": null,
            "grid_area": null,
            "grid_auto_columns": null,
            "grid_auto_flow": null,
            "grid_auto_rows": null,
            "grid_column": null,
            "grid_gap": null,
            "grid_row": null,
            "grid_template_areas": null,
            "grid_template_columns": null,
            "grid_template_rows": null,
            "height": null,
            "justify_content": null,
            "justify_items": null,
            "left": null,
            "margin": null,
            "max_height": null,
            "max_width": null,
            "min_height": null,
            "min_width": null,
            "object_fit": null,
            "object_position": null,
            "order": null,
            "overflow": null,
            "overflow_x": null,
            "overflow_y": null,
            "padding": null,
            "right": null,
            "top": null,
            "visibility": null,
            "width": null
          }
        },
        "f679aba935b846fa9491396f16585955": {
          "model_module": "@jupyter-widgets/controls",
          "model_name": "DescriptionStyleModel",
          "model_module_version": "1.5.0",
          "state": {
            "_model_module": "@jupyter-widgets/controls",
            "_model_module_version": "1.5.0",
            "_model_name": "DescriptionStyleModel",
            "_view_count": null,
            "_view_module": "@jupyter-widgets/base",
            "_view_module_version": "1.2.0",
            "_view_name": "StyleView",
            "description_width": ""
          }
        },
        "416e6b0b0b3e41af904cd7ef6c746e31": {
          "model_module": "@jupyter-widgets/controls",
          "model_name": "HBoxModel",
          "model_module_version": "1.5.0",
          "state": {
            "_dom_classes": [],
            "_model_module": "@jupyter-widgets/controls",
            "_model_module_version": "1.5.0",
            "_model_name": "HBoxModel",
            "_view_count": null,
            "_view_module": "@jupyter-widgets/controls",
            "_view_module_version": "1.5.0",
            "_view_name": "HBoxView",
            "box_style": "",
            "children": [
              "IPY_MODEL_0be499b82c504a4f93871e8c3a83eea3",
              "IPY_MODEL_66d932ba7f264d5ba3217ebc422d8c86",
              "IPY_MODEL_ca6867fc1f41449581b5b23c1728c4a9"
            ],
            "layout": "IPY_MODEL_f66908026afb496dabf1fcbc0ecb4757"
          }
        },
        "0be499b82c504a4f93871e8c3a83eea3": {
          "model_module": "@jupyter-widgets/controls",
          "model_name": "HTMLModel",
          "model_module_version": "1.5.0",
          "state": {
            "_dom_classes": [],
            "_model_module": "@jupyter-widgets/controls",
            "_model_module_version": "1.5.0",
            "_model_name": "HTMLModel",
            "_view_count": null,
            "_view_module": "@jupyter-widgets/controls",
            "_view_module_version": "1.5.0",
            "_view_name": "HTMLView",
            "description": "",
            "description_tooltip": null,
            "layout": "IPY_MODEL_731c206927d74ebeb460c0d7d0dcf8ac",
            "placeholder": "​",
            "style": "IPY_MODEL_7c7e23e3ef104b22b89010ce3d0b0938",
            "value": "Map: 100%"
          }
        },
        "66d932ba7f264d5ba3217ebc422d8c86": {
          "model_module": "@jupyter-widgets/controls",
          "model_name": "FloatProgressModel",
          "model_module_version": "1.5.0",
          "state": {
            "_dom_classes": [],
            "_model_module": "@jupyter-widgets/controls",
            "_model_module_version": "1.5.0",
            "_model_name": "FloatProgressModel",
            "_view_count": null,
            "_view_module": "@jupyter-widgets/controls",
            "_view_module_version": "1.5.0",
            "_view_name": "ProgressView",
            "bar_style": "success",
            "description": "",
            "description_tooltip": null,
            "layout": "IPY_MODEL_9122c27d29a54fa4a27eeafe07979ee9",
            "max": 9799,
            "min": 0,
            "orientation": "horizontal",
            "style": "IPY_MODEL_0c1bc37b728d415cab6a0153f143b5c1",
            "value": 9799
          }
        },
        "ca6867fc1f41449581b5b23c1728c4a9": {
          "model_module": "@jupyter-widgets/controls",
          "model_name": "HTMLModel",
          "model_module_version": "1.5.0",
          "state": {
            "_dom_classes": [],
            "_model_module": "@jupyter-widgets/controls",
            "_model_module_version": "1.5.0",
            "_model_name": "HTMLModel",
            "_view_count": null,
            "_view_module": "@jupyter-widgets/controls",
            "_view_module_version": "1.5.0",
            "_view_name": "HTMLView",
            "description": "",
            "description_tooltip": null,
            "layout": "IPY_MODEL_1f612bdf43e34d10b82606e61e56b616",
            "placeholder": "​",
            "style": "IPY_MODEL_12f650acfe95424a8eb9dc62896a8362",
            "value": " 9799/9799 [00:02&lt;00:00, 4213.92 examples/s]"
          }
        },
        "f66908026afb496dabf1fcbc0ecb4757": {
          "model_module": "@jupyter-widgets/base",
          "model_name": "LayoutModel",
          "model_module_version": "1.2.0",
          "state": {
            "_model_module": "@jupyter-widgets/base",
            "_model_module_version": "1.2.0",
            "_model_name": "LayoutModel",
            "_view_count": null,
            "_view_module": "@jupyter-widgets/base",
            "_view_module_version": "1.2.0",
            "_view_name": "LayoutView",
            "align_content": null,
            "align_items": null,
            "align_self": null,
            "border": null,
            "bottom": null,
            "display": null,
            "flex": null,
            "flex_flow": null,
            "grid_area": null,
            "grid_auto_columns": null,
            "grid_auto_flow": null,
            "grid_auto_rows": null,
            "grid_column": null,
            "grid_gap": null,
            "grid_row": null,
            "grid_template_areas": null,
            "grid_template_columns": null,
            "grid_template_rows": null,
            "height": null,
            "justify_content": null,
            "justify_items": null,
            "left": null,
            "margin": null,
            "max_height": null,
            "max_width": null,
            "min_height": null,
            "min_width": null,
            "object_fit": null,
            "object_position": null,
            "order": null,
            "overflow": null,
            "overflow_x": null,
            "overflow_y": null,
            "padding": null,
            "right": null,
            "top": null,
            "visibility": null,
            "width": null
          }
        },
        "731c206927d74ebeb460c0d7d0dcf8ac": {
          "model_module": "@jupyter-widgets/base",
          "model_name": "LayoutModel",
          "model_module_version": "1.2.0",
          "state": {
            "_model_module": "@jupyter-widgets/base",
            "_model_module_version": "1.2.0",
            "_model_name": "LayoutModel",
            "_view_count": null,
            "_view_module": "@jupyter-widgets/base",
            "_view_module_version": "1.2.0",
            "_view_name": "LayoutView",
            "align_content": null,
            "align_items": null,
            "align_self": null,
            "border": null,
            "bottom": null,
            "display": null,
            "flex": null,
            "flex_flow": null,
            "grid_area": null,
            "grid_auto_columns": null,
            "grid_auto_flow": null,
            "grid_auto_rows": null,
            "grid_column": null,
            "grid_gap": null,
            "grid_row": null,
            "grid_template_areas": null,
            "grid_template_columns": null,
            "grid_template_rows": null,
            "height": null,
            "justify_content": null,
            "justify_items": null,
            "left": null,
            "margin": null,
            "max_height": null,
            "max_width": null,
            "min_height": null,
            "min_width": null,
            "object_fit": null,
            "object_position": null,
            "order": null,
            "overflow": null,
            "overflow_x": null,
            "overflow_y": null,
            "padding": null,
            "right": null,
            "top": null,
            "visibility": null,
            "width": null
          }
        },
        "7c7e23e3ef104b22b89010ce3d0b0938": {
          "model_module": "@jupyter-widgets/controls",
          "model_name": "DescriptionStyleModel",
          "model_module_version": "1.5.0",
          "state": {
            "_model_module": "@jupyter-widgets/controls",
            "_model_module_version": "1.5.0",
            "_model_name": "DescriptionStyleModel",
            "_view_count": null,
            "_view_module": "@jupyter-widgets/base",
            "_view_module_version": "1.2.0",
            "_view_name": "StyleView",
            "description_width": ""
          }
        },
        "9122c27d29a54fa4a27eeafe07979ee9": {
          "model_module": "@jupyter-widgets/base",
          "model_name": "LayoutModel",
          "model_module_version": "1.2.0",
          "state": {
            "_model_module": "@jupyter-widgets/base",
            "_model_module_version": "1.2.0",
            "_model_name": "LayoutModel",
            "_view_count": null,
            "_view_module": "@jupyter-widgets/base",
            "_view_module_version": "1.2.0",
            "_view_name": "LayoutView",
            "align_content": null,
            "align_items": null,
            "align_self": null,
            "border": null,
            "bottom": null,
            "display": null,
            "flex": null,
            "flex_flow": null,
            "grid_area": null,
            "grid_auto_columns": null,
            "grid_auto_flow": null,
            "grid_auto_rows": null,
            "grid_column": null,
            "grid_gap": null,
            "grid_row": null,
            "grid_template_areas": null,
            "grid_template_columns": null,
            "grid_template_rows": null,
            "height": null,
            "justify_content": null,
            "justify_items": null,
            "left": null,
            "margin": null,
            "max_height": null,
            "max_width": null,
            "min_height": null,
            "min_width": null,
            "object_fit": null,
            "object_position": null,
            "order": null,
            "overflow": null,
            "overflow_x": null,
            "overflow_y": null,
            "padding": null,
            "right": null,
            "top": null,
            "visibility": null,
            "width": null
          }
        },
        "0c1bc37b728d415cab6a0153f143b5c1": {
          "model_module": "@jupyter-widgets/controls",
          "model_name": "ProgressStyleModel",
          "model_module_version": "1.5.0",
          "state": {
            "_model_module": "@jupyter-widgets/controls",
            "_model_module_version": "1.5.0",
            "_model_name": "ProgressStyleModel",
            "_view_count": null,
            "_view_module": "@jupyter-widgets/base",
            "_view_module_version": "1.2.0",
            "_view_name": "StyleView",
            "bar_color": null,
            "description_width": ""
          }
        },
        "1f612bdf43e34d10b82606e61e56b616": {
          "model_module": "@jupyter-widgets/base",
          "model_name": "LayoutModel",
          "model_module_version": "1.2.0",
          "state": {
            "_model_module": "@jupyter-widgets/base",
            "_model_module_version": "1.2.0",
            "_model_name": "LayoutModel",
            "_view_count": null,
            "_view_module": "@jupyter-widgets/base",
            "_view_module_version": "1.2.0",
            "_view_name": "LayoutView",
            "align_content": null,
            "align_items": null,
            "align_self": null,
            "border": null,
            "bottom": null,
            "display": null,
            "flex": null,
            "flex_flow": null,
            "grid_area": null,
            "grid_auto_columns": null,
            "grid_auto_flow": null,
            "grid_auto_rows": null,
            "grid_column": null,
            "grid_gap": null,
            "grid_row": null,
            "grid_template_areas": null,
            "grid_template_columns": null,
            "grid_template_rows": null,
            "height": null,
            "justify_content": null,
            "justify_items": null,
            "left": null,
            "margin": null,
            "max_height": null,
            "max_width": null,
            "min_height": null,
            "min_width": null,
            "object_fit": null,
            "object_position": null,
            "order": null,
            "overflow": null,
            "overflow_x": null,
            "overflow_y": null,
            "padding": null,
            "right": null,
            "top": null,
            "visibility": null,
            "width": null
          }
        },
        "12f650acfe95424a8eb9dc62896a8362": {
          "model_module": "@jupyter-widgets/controls",
          "model_name": "DescriptionStyleModel",
          "model_module_version": "1.5.0",
          "state": {
            "_model_module": "@jupyter-widgets/controls",
            "_model_module_version": "1.5.0",
            "_model_name": "DescriptionStyleModel",
            "_view_count": null,
            "_view_module": "@jupyter-widgets/base",
            "_view_module_version": "1.2.0",
            "_view_name": "StyleView",
            "description_width": ""
          }
        }
      }
    }
  },
  "nbformat": 4,
  "nbformat_minor": 5
}